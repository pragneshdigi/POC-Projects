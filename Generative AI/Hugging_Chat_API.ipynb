{
  "nbformat": 4,
  "nbformat_minor": 0,
  "metadata": {
    "colab": {
      "provenance": [],
      "gpuType": "T4"
    },
    "kernelspec": {
      "name": "python3",
      "display_name": "Python 3"
    },
    "language_info": {
      "name": "python"
    },
    "accelerator": "GPU"
  },
  "cells": [
    {
      "cell_type": "code",
      "execution_count": null,
      "metadata": {
        "colab": {
          "base_uri": "https://localhost:8080/"
        },
        "id": "VOV3BH9Md6uZ",
        "outputId": "f96a9c5b-8c98-4386-d6d4-1858c58667c4"
      },
      "outputs": [
        {
          "output_type": "stream",
          "name": "stdout",
          "text": [
            "Requirement already satisfied: hugchat==0.1.0 in /usr/local/lib/python3.10/dist-packages (0.1.0)\n",
            "Requirement already satisfied: python-dotenv in /usr/local/lib/python3.10/dist-packages (1.0.0)\n",
            "Requirement already satisfied: requests in /usr/local/lib/python3.10/dist-packages (from hugchat==0.1.0) (2.31.0)\n",
            "Requirement already satisfied: requests-toolbelt in /usr/local/lib/python3.10/dist-packages (from hugchat==0.1.0) (1.0.0)\n",
            "Requirement already satisfied: charset-normalizer<4,>=2 in /usr/local/lib/python3.10/dist-packages (from requests->hugchat==0.1.0) (3.2.0)\n",
            "Requirement already satisfied: idna<4,>=2.5 in /usr/local/lib/python3.10/dist-packages (from requests->hugchat==0.1.0) (3.4)\n",
            "Requirement already satisfied: urllib3<3,>=1.21.1 in /usr/local/lib/python3.10/dist-packages (from requests->hugchat==0.1.0) (2.0.4)\n",
            "Requirement already satisfied: certifi>=2017.4.17 in /usr/local/lib/python3.10/dist-packages (from requests->hugchat==0.1.0) (2023.7.22)\n"
          ]
        }
      ],
      "source": [
        "!pip install hugchat==0.1.0 python-dotenv"
      ]
    },
    {
      "cell_type": "code",
      "source": [
        "from dotenv import dotenv_values\n",
        "\n",
        "secrets = dotenv_values('hf.env')"
      ],
      "metadata": {
        "id": "G9guiPpteDjX"
      },
      "execution_count": null,
      "outputs": []
    },
    {
      "cell_type": "code",
      "source": [
        "hf_email = secrets['EMAIL']\n",
        "hf_pass = secrets['PASS']"
      ],
      "metadata": {
        "id": "RL7S8AK7eMvS"
      },
      "execution_count": null,
      "outputs": []
    },
    {
      "cell_type": "code",
      "source": [
        "from hugchat import hugchat\n",
        "from hugchat.login import Login"
      ],
      "metadata": {
        "id": "abxtMg8YgDWd"
      },
      "execution_count": null,
      "outputs": []
    },
    {
      "cell_type": "code",
      "source": [
        "def generate_response(prompt_input, email, passwd):\n",
        "  sign = Login(email, passwd)\n",
        "  cookies = sign.login()\n",
        "  chatbot = hugchat.ChatBot(cookies=cookies.get_dict())\n",
        "  return chatbot.chat(prompt_input)"
      ],
      "metadata": {
        "id": "Ztjs2-NjQBry"
      },
      "execution_count": null,
      "outputs": []
    },
    {
      "cell_type": "code",
      "source": [
        "prompt = \"select the odd one out from this list 1) obesity 2) diabetes 3) malaria 4) heart disease\"\n",
        "response = generate_response(prompt, hf_email, hf_pass)"
      ],
      "metadata": {
        "id": "ctZ7X7OhRVo7"
      },
      "execution_count": null,
      "outputs": []
    },
    {
      "cell_type": "code",
      "source": [
        "response"
      ],
      "metadata": {
        "colab": {
          "base_uri": "https://localhost:8080/",
          "height": 35
        },
        "id": "N8XUNBrCRfoF",
        "outputId": "e2ac5c71-dbe4-47a6-e74a-fe8a16d6e4f4"
      },
      "execution_count": null,
      "outputs": [
        {
          "output_type": "execute_result",
          "data": {
            "text/plain": [
              "'Obesity would be the odd one out as all other diseases mentioned in the list are infectious diseases whereas obesity is not contagious but rather a lifestyle disorder'"
            ],
            "application/vnd.google.colaboratory.intrinsic+json": {
              "type": "string"
            }
          },
          "metadata": {},
          "execution_count": 14
        }
      ]
    },
    {
      "cell_type": "code",
      "source": [],
      "metadata": {
        "id": "-GYI9-qgRiqb"
      },
      "execution_count": null,
      "outputs": []
    }
  ]
}